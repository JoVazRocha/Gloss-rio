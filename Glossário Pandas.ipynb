{
 "cells": [
  {
   "cell_type": "markdown",
   "metadata": {},
   "source": [
    "# <center><font color=\"green\">Glossário</font></center>\n",
    "\n",
    "# Imports Importantes"
   ]
  },
  {
   "cell_type": "code",
   "execution_count": 1,
   "metadata": {},
   "outputs": [
    {
     "name": "stdout",
     "output_type": "stream",
     "text": [
      "CPU times: total: 406 ms\n",
      "Wall time: 1.9 s\n"
     ]
    }
   ],
   "source": [
    "%%time\n",
    "import pandas as pd\n",
    "import numpy as np\n",
    "import datetime\n",
    "import json                        #Para poder fazer coisas com ficheiros json            \n",
    "import os                          #Ler ficheiros em pastas"
   ]
  },
  {
   "cell_type": "markdown",
   "metadata": {},
   "source": [
    "# Opções "
   ]
  },
  {
   "cell_type": "code",
   "execution_count": 2,
   "metadata": {},
   "outputs": [
    {
     "name": "stdout",
     "output_type": "stream",
     "text": [
      "Linhas: 60\n",
      "Colunas: 20\n",
      "Tamanho colunas: 50\n",
      "Casas decimais: 6\n"
     ]
    }
   ],
   "source": [
    "print(\"Linhas:\",pd.options.display.max_rows) # = x\n",
    "print(\"Colunas:\",pd.options.display.max_columns) # = y\n",
    "print(\"Tamanho colunas:\",pd.options.display.max_colwidth) # = z\n",
    "print(\"Casas decimais:\",pd.options.display.precision) # = w"
   ]
  },
  {
   "cell_type": "markdown",
   "metadata": {},
   "source": [
    "<a id=\"section0\"></a>\n",
    "\n",
    "# Índice\n",
    "\n",
    "1. [Criar](#section1)<br>\n",
    "2. [Ler e Escrever](#section2)<br>\n",
    "3. [Ver](#section3)<br>\n",
    "4. [Limpar](#section4)<br>\n",
    "5. [Limitar](#section5)<br>\n",
    "6. [Datetime](#section6)<br>\n",
    "7. [Organização](#section7)"
   ]
  },
  {
   "cell_type": "markdown",
   "metadata": {},
   "source": [
    "<a id=\"section1\"></a>\n",
    "# <font color=\"green\">1. Criar</font>"
   ]
  },
  {
   "cell_type": "markdown",
   "metadata": {},
   "source": [
    "- <u>`DataFrames`"
   ]
  },
  {
   "cell_type": "code",
   "execution_count": 3,
   "metadata": {},
   "outputs": [],
   "source": [
    "df = pd.DataFrame({\"coluna_1\":[100, 200], \"coluna_2\":[300,400]})\n",
    "\n",
    "#ou através de funções\n",
    "df = pd.DataFrame(np.random.rand(4,8), columns=list(\"abcdefgh\"))\n",
    "\n",
    "#ou através de dicionários\n",
    "df = pd.DataFrame(dicionario.items(), columns=[\"coluna_1\",\"coluna_2\"])"
   ]
  },
  {
   "cell_type": "markdown",
   "metadata": {},
   "source": [
    "- <u>`Colunas`</u>"
   ]
  },
  {
   "cell_type": "code",
   "execution_count": 11,
   "metadata": {},
   "outputs": [],
   "source": [
    "df[\"Coluna_vazia_de_strings\"] = \"\"\n",
    "df[\"Coluna_vazia_de_inteiros\"] = pd.Series(dtype='int')\n",
    "df[\"Coluna_Interessante\"] = lista_interessante"
   ]
  },
  {
   "cell_type": "markdown",
   "metadata": {},
   "source": [
    "[Índice](#section0)"
   ]
  },
  {
   "cell_type": "markdown",
   "metadata": {},
   "source": [
    "<a id=\"section2\"></a>\n",
    "# <font color=\"green\">2. Ler e Escrever</font>"
   ]
  },
  {
   "cell_type": "markdown",
   "metadata": {},
   "source": [
    "- <u> `Tipos de ficheiros diferentes`"
   ]
  },
  {
   "cell_type": "code",
   "execution_count": null,
   "metadata": {},
   "outputs": [],
   "source": [
    "                                                > - Csv - <\n",
    "\n",
    "#Ler\n",
    "df=pd.read_csv('x.csv')\n",
    "\n",
    "#Escrever\n",
    "df.to_csv('y.csv', sep=',', index=False)\n",
    "\n",
    "#Função\n",
    "def escrever_csv(dfa, nome):\n",
    "    dfa.to_csv('%s.csv' %nome, index=False)\n",
    "\n",
    "#####################################################################\n",
    "    \n",
    "                                                > - Txt - <\n",
    "\n",
    "#Ler\n",
    "df=pd.read_csv('x.txt', delimiter='\\t', dtype='float64')\n",
    "\n",
    "#Escrever\n",
    "df.to_csv('y.txt', sep='\\t', index=False)\n",
    "\n",
    "#Função\n",
    "def escrever_txt(dfa, nome):\n",
    "    dfa.to_csv('%s.txt' %nome, sep='\\t', index=False)\n",
    "\n",
    "df=pd.read_csv('C:\\\\Users\\\\joao_\\\\OneDrive\\\\Ambiente de Trabalho\\\\oi.txt', delimiter=',')\n",
    "\n",
    "#####################################################################\n",
    "\n",
    "                                                > - Excel - <\n",
    "\n",
    "#Ler\n",
    "df=pd.read_excel('x.xlsx', sheet_name='nome')\n",
    "#Escrever\n",
    "df.to_excel('y.xlsx', index=False)\n",
    "\n",
    "#Função\n",
    "def escrever_excel(dfa, nome):\n",
    "    dfa.to_excel('%s.xlsx' %nome, index=False)\n",
    "\n",
    "#####################################################################\n",
    "    \n",
    "                                                > - Json - <\n",
    "\n",
    "#Ler\n",
    "def ler_json(ficheiro):\n",
    "    with open('x.json' %ficheiro, 'r') as file:\n",
    "        mapa = json.load(file)\n",
    "    return mapa\n",
    "\n",
    "dicionario = ler_json()\n",
    "\n",
    "#Escrever\n",
    "#Função\n",
    "def escrever_json(dicionario, ficheiro):\n",
    "    with open('D:\\\\B&N Dados\\\\Delta\\\\%s.json' %ficheiro, 'w') as file:\n",
    "        json.dump(dicionario, file)\n",
    "        \n",
    "#####################################################################\n",
    "        \n",
    "                                                > - gzip - <\n",
    "\n",
    "#Ler\n",
    "pd.read_parquet('df.parquet.gzip')\n",
    "\n",
    "#Escrever\n",
    "df.to_parquet('df.parquet.gzip', compression='gzip')\n",
    "\n"
   ]
  },
  {
   "cell_type": "markdown",
   "metadata": {},
   "source": [
    "- <u> `Múltiplos ficheiros numa pasta`"
   ]
  },
  {
   "cell_type": "code",
   "execution_count": null,
   "metadata": {},
   "outputs": [],
   "source": [
    "# Se quisermos ler todos os ficheiros dentro de uma pasta\n",
    "\n",
    "directoria = 'Directória_da_Pasta\n",
    "\n",
    "ficheiros = [file for file in os.listdir(\"Directória_da_Pasta\")]\n",
    "dataframes = []\n",
    "\n",
    "# Iterar pelos ficheiros todos dentro da directória\n",
    "for file in ficheiros:\n",
    "    df = pd.read_csv(\"Directória_da_Pasta\" + file)\n",
    "    dataframes.append(df)\n",
    "\n",
    "dfTotal = pd.concat(dataframes, ignore_index=True)\n",
    "\n",
    "#####################################################################\n",
    "\n",
    "# Se quisermos ler ficheiros específicos dentro de uma pasta\n",
    "\n",
    "dataframes = []\n",
    "\n",
    "# Iterar pelos ficheiros de interesse dentro da directória\n",
    "for filename in os.listdir(directoria):\n",
    "    if filename.startswith(\"padrão_de_início_dos_ficheiros\") and filename.endswith(\".tipo_dos_ficheiros\"):\n",
    "        \n",
    "        filepath = os.path.join(directoria, filename)\n",
    "        df = pd.read_excel(filepath)\n",
    "        \n",
    "        # Add the DataFrame to the list\n",
    "        dataframes.append(df)\n",
    "\n",
    "# Concatenate all the DataFrames into a single DataFrame\n",
    "dfTotal = pd.concat(dataframes, ignore_index=True)"
   ]
  },
  {
   "cell_type": "markdown",
   "metadata": {},
   "source": [
    "[Índice](#section0)"
   ]
  },
  {
   "cell_type": "markdown",
   "metadata": {},
   "source": [
    "<a id=\"section3\"></a>\n",
    "# <font color=\"green\">3. Ver"
   ]
  },
  {
   "cell_type": "markdown",
   "metadata": {},
   "source": [
    "- `Acções interessantes em dataframes (por ordem de utilização minha)` "
   ]
  },
  {
   "cell_type": "code",
   "execution_count": null,
   "metadata": {},
   "outputs": [],
   "source": [
    "df.head()             # Ver primeiras 4 linhas de um dataframe\n",
    ".tolist()             # Depois de acções que devolvem séries, tolist() faz com que passem a ser listas\n",
    "df.columns            # Ver todas as colunas de um dataframe\n",
    "df[\"Coluna\"].unique() # Todas as opções de valores dentro de colunas\n",
    "df.info()             # Informações variadas sobre os dataframes\n",
    "df.index              # É experimentar para perceber o resto\n",
    "df.shape\n",
    "df.value_counts()\n",
    "df.count()\n",
    "df.size\n",
    "df.dtypes\n",
    "df.describe()\n",
    "\n",
    "# Funções\n",
    "df.mean()\n",
    "df.std()\n",
    "df.sum()\n",
    "df.max()\n",
    "df.min()\n",
    "df.median()\n",
    "\n",
    "\n",
    "\n",
    "from summarytools import dfSummary\n",
    "dfSummary(dfNinjas)"
   ]
  },
  {
   "cell_type": "markdown",
   "metadata": {},
   "source": [
    "[Índice](#section0)"
   ]
  },
  {
   "cell_type": "markdown",
   "metadata": {},
   "source": [
    "<a id=\"section4\"></a>\n",
    "# <font color=\"green\">4. Limpar"
   ]
  },
  {
   "cell_type": "markdown",
   "metadata": {},
   "source": [
    "> Drop"
   ]
  },
  {
   "cell_type": "code",
   "execution_count": null,
   "metadata": {},
   "outputs": [],
   "source": [
    "df = df.drop(columns=[''])          #Eliminar colunas escolhidas\n",
    "\n",
    "#Duplicados\n",
    "df = df.groupby('A manter').apply(lambda x: x.drop_duplicates(subset=['A eliminar'], keep='first'))\n",
    "df = df.reset_index(drop=True)\n",
    "#ou\n",
    "df = df.drop_duplicates()"
   ]
  },
  {
   "cell_type": "markdown",
   "metadata": {},
   "source": [
    "> Rename"
   ]
  },
  {
   "cell_type": "code",
   "execution_count": null,
   "metadata": {},
   "outputs": [],
   "source": [
    "#Colunas\n",
    "df = df.rename(columns={\"original1\": \"novo1\", \"original2\": \"novo2\"})\n",
    "\n",
    "#Elementos de uma coluna\n",
    "df[\"Coluna\"] = df[\"Coluna\"].replace({\"A\": 1, \"B\": \"b\"})"
   ]
  },
  {
   "cell_type": "markdown",
   "metadata": {},
   "source": [
    "> Eliminar Nan"
   ]
  },
  {
   "cell_type": "code",
   "execution_count": null,
   "metadata": {},
   "outputs": [],
   "source": [
    "#Com valor específico\n",
    "df.fillna(0)\n",
    "\n",
    "#Com o valor anterior ou posterior, respectivamente\n",
    "df.fillna(method=\"ffill\")\n",
    "df.fillna(method=\"bfill\")\n",
    "\n",
    "#Eliminar linhas\n",
    "df.dropna() #todas as que têm pelo menos 1 Nan\n",
    "df.dropna(how='all') #só se todos os valores da linha forem Nan"
   ]
  },
  {
   "cell_type": "markdown",
   "metadata": {},
   "source": [
    "> Substituir letras"
   ]
  },
  {
   "cell_type": "code",
   "execution_count": null,
   "metadata": {},
   "outputs": [],
   "source": [
    "dfSonae['STORE'] = dfSonae['STORE'].str.replace('L', '')\n",
    "dfSonae['STORE'] = dfSonae['STORE'].astype('int') # Este está aqui porque geralmente é necessário logo a seguir"
   ]
  },
  {
   "cell_type": "markdown",
   "metadata": {},
   "source": [
    "# <font color=\"green\">Data processing"
   ]
  },
  {
   "cell_type": "markdown",
   "metadata": {},
   "source": [
    "> ## Mergir"
   ]
  },
  {
   "cell_type": "code",
   "execution_count": null,
   "metadata": {},
   "outputs": [],
   "source": [
    "dfMergido=pd.merge(df1, df2, how=\"inner/left/right/outter\", on = \"x\")\n",
    "\n",
    "dataframes=[\"x\",\"y\"]\n",
    "df = pd.concat(dataframes, ignore_index=True)\n",
    "\n",
    "df = df.melt(id_vars=nomesResto, value_vars=nomesProd, var_name='DESC_ARTIGO', value_name='NinjaInfo')\n",
    "df_wide = df_long.pivot_table(index='Name', columns='Date', values='Value', aggfunc='sum')"
   ]
  },
  {
   "cell_type": "code",
   "execution_count": null,
   "metadata": {},
   "outputs": [],
   "source": [
    "#Somar colunas\n",
    "df['new_column'] = df[['col1', 'col2', 'col3', 'col4', 'col5', 'col6', 'col7', 'col8', 'col9', 'col10']].sum(axis=1)\n"
   ]
  },
  {
   "cell_type": "markdown",
   "metadata": {},
   "source": [
    "[Índice](#section0)"
   ]
  },
  {
   "cell_type": "markdown",
   "metadata": {},
   "source": [
    "<a id=\"section5\"></a>\n",
    "# <font color=\"green\">5. Limitar"
   ]
  },
  {
   "cell_type": "markdown",
   "metadata": {},
   "source": [
    " - <u>`Seleccionar determinadas linhas`"
   ]
  },
  {
   "cell_type": "code",
   "execution_count": null,
   "metadata": {},
   "outputs": [],
   "source": [
    "# O novo dataframe vai ser uma parte do dataframe total\n",
    "\n",
    "dfSplit = df[df[\"Coluna_de_interesse\"].str.contains(\"Palavra_Escolhida\")]\n",
    "dfSplit = df[df[\"Coluna_de_interesse\"].str.endswith(\"Palavra_Escolhida\")]\n",
    "dfSplit = df[df[\"Coluna_de_interesse\"].str.startswith(\"Palavra_Escolhida\")]\n"
   ]
  },
  {
   "cell_type": "markdown",
   "metadata": {},
   "source": [
    " - <u>`Seleccionar determinadas Colunas`"
   ]
  },
  {
   "cell_type": "code",
   "execution_count": null,
   "metadata": {},
   "outputs": [],
   "source": [
    "# Usar lista de colunas a excluir para estabelecer que colunas manter\n",
    "Lista_Colunas_a_Manter = [x for x in Todas_Colunas if x not in Colunas_Eliminar]\n",
    "df_Colunas_Certas = df_Total[Lista_Colunas_a_Manter]\n",
    "\n",
    "# Usar a função filter para escolher colunas que contenham palavras chave\n",
    "df[[\"DATA\"] + df.filter(like='Palavra/Expressão_Escolhida').columns.tolist()]"
   ]
  },
  {
   "cell_type": "markdown",
   "metadata": {},
   "source": [
    "[Índice](#section0)"
   ]
  },
  {
   "cell_type": "markdown",
   "metadata": {},
   "source": [
    "<a id=\"section6\"></a>\n",
    "# <font color=\"green\">6. Datetime"
   ]
  },
  {
   "cell_type": "code",
   "execution_count": null,
   "metadata": {},
   "outputs": [],
   "source": [
    "# Passar para datetime\n",
    "df['DATA']= pd.to_datetime(df['DATA'], format='%d%m%Y'ou '%d-%m-%Y')\n",
    "\n",
    "# Limpar a data para aparecer apenas ano, mês e dia\n",
    "df['DATA'] = df['DATA'].dt.strftime(\"%Y-%m-%d\")\n",
    "\n",
    "# Ver dados entre determinadas datas\n",
    "df[df[\"DATA\"].between(\"data_início\", \"data_fim\")].head()\n",
    "\n",
    "# Mudar o ano\n",
    "df.loc[df['DATA'].dt.year == 2021, 'DATA'] = df.loc[dfTeste['DATA'].dt.year == 2021, 'DATA'] + pd.offsets.DateOffset(years=1)"
   ]
  },
  {
   "cell_type": "markdown",
   "metadata": {},
   "source": [
    " - <u>`Componentes da Data`"
   ]
  },
  {
   "cell_type": "code",
   "execution_count": null,
   "metadata": {},
   "outputs": [],
   "source": [
    "df[\"Ano\"] = df['Data'].dt.year\n",
    "\n",
    "df[\"Mês\"] = df['Data'].dt.month\n",
    "\n",
    "df[\"Dia\"] = df['Data'].dt.day\n",
    "\n",
    "df[\"Hora\"] = df['Data'].dt.hour"
   ]
  },
  {
   "cell_type": "markdown",
   "metadata": {},
   "source": [
    " - <u>`Aceder a dias da semana`"
   ]
  },
  {
   "cell_type": "code",
   "execution_count": null,
   "metadata": {},
   "outputs": [],
   "source": [
    "df['DATA'].dt.weekday.isin([0, 4]) # dias de segunda a sexta\n",
    "df['DATA'].dt.weekday.isin([5, 6]) # dias de sábado a domingo\n",
    "        \n",
    "df_Semana = df[df['DATA'].dt.weekday.isin([0, 4])]\n",
    "df_Fds = df[df['DATA'].dt.weekday.isin([5, 6])] "
   ]
  },
  {
   "cell_type": "markdown",
   "metadata": {},
   "source": [
    "[Índice](#section0)"
   ]
  },
  {
   "cell_type": "markdown",
   "metadata": {},
   "source": [
    "<a id=\"section7\"></a>\n",
    "# <font color=\"green\">7. Organização</font>"
   ]
  },
  {
   "cell_type": "markdown",
   "metadata": {},
   "source": [
    " - <u>`Ordenar`"
   ]
  },
  {
   "cell_type": "code",
   "execution_count": null,
   "metadata": {},
   "outputs": [],
   "source": [
    "df.sort_values(by=[\"x\", \"y\", \"z\"])"
   ]
  },
  {
   "cell_type": "code",
   "execution_count": null,
   "metadata": {},
   "outputs": [],
   "source": [
    "dfOrganizado = df.iloc[:, np.r_[:5,6:9,-1,5,-2,-3]]"
   ]
  },
  {
   "cell_type": "code",
   "execution_count": null,
   "metadata": {},
   "outputs": [],
   "source": [
    "# Numera as colunas para ser mais fácil organizar posteriormente o DataFrame\n",
    "[f\"{index}: {column}\" for index, column in enumerate(df.columns.tolist())]"
   ]
  },
  {
   "cell_type": "markdown",
   "metadata": {},
   "source": [
    " - <u>`Fazer um dicionário`"
   ]
  },
  {
   "cell_type": "code",
   "execution_count": null,
   "metadata": {},
   "outputs": [],
   "source": [
    "dicionário = dict(zip(df['Coluna_Chave'], df['Coluna_Alvo']))\n",
    "\n",
    "# Usar o dicionário\n",
    "df[\"Novo\"] = df[\"Chave\"].map(dicionário)\n",
    "\n",
    "\n",
    "#usar dicionário para renomear as colunas\n",
    "df = df.rename(columns=lambda x: dicionário.get(x, x))\n"
   ]
  },
  {
   "cell_type": "markdown",
   "metadata": {},
   "source": [
    "# Loc, iloc, at, iat"
   ]
  },
  {
   "cell_type": "code",
   "execution_count": null,
   "metadata": {},
   "outputs": [],
   "source": [
    "#loc\n",
    "\n",
    "#Se a data for index\n",
    "df.loc['2017-01']\n",
    "#Se index um número qq\n",
    "df.loc[firstindex:lastindex]\n",
    "data.loc[[1,5,8,36], [\"Area Code\", \"VMail Plan\", \"Day Mins\"]]\n",
    "\n",
    "\n",
    "#iloc\n",
    "df.iloc[:,[0,2,4,5,6,7,-1]]  # ver determinadas colunas\n",
    "data.iloc[[1,5,8,36], [2,5,7]]"
   ]
  },
  {
   "cell_type": "markdown",
   "metadata": {},
   "source": [
    "# Widgets"
   ]
  },
  {
   "cell_type": "code",
   "execution_count": null,
   "metadata": {},
   "outputs": [],
   "source": [
    "from ipywidgets import interact\n",
    "@interact\n",
    "def filtrar_produto(produto = list(df1.DESC_ARTIGO.unique())):\n",
    "    \n",
    "    return df1[df1.DESC_ARTIGO == produto].head() # Alterável"
   ]
  },
  {
   "cell_type": "code",
   "execution_count": null,
   "metadata": {},
   "outputs": [],
   "source": [
    "@interact\n",
    "def filtrar_loja(loja = list(df1.Loja.unique())):\n",
    "    \n",
    "    return df1[df1.Loja == loja].head() # Alterável"
   ]
  },
  {
   "cell_type": "markdown",
   "metadata": {},
   "source": [
    "- **função separar fins de semana**"
   ]
  },
  {
   "cell_type": "code",
   "execution_count": null,
   "metadata": {},
   "outputs": [],
   "source": [
    "#Função para definir qual fim de semana queremos pedir\n",
    "def fds(nome, df, numero):\n",
    "    a = int(numero)\n",
    "    b = 3*(a-1)\n",
    "    nome=df[b:b+3].copy()\n",
    "    return nome\n"
   ]
  },
  {
   "cell_type": "markdown",
   "metadata": {},
   "source": [
    "> - Extrair apenas os fins de semana"
   ]
  },
  {
   "cell_type": "code",
   "execution_count": null,
   "metadata": {},
   "outputs": [],
   "source": [
    "dfFds = dfFinal[dfFinal['DATA'].dt.weekday.isin([4,5,6])].copy()         #Sexta, Sábado e Domingo\n",
    "#dfSemana = dfJuntos[dfJuntos['DATA'].dt.weekday.isin([0,1,2,3])]    #Segunda a Quinta"
   ]
  },
  {
   "cell_type": "markdown",
   "metadata": {},
   "source": [
    "> - Fins de semana homólogos\n"
   ]
  },
  {
   "cell_type": "code",
   "execution_count": null,
   "metadata": {},
   "outputs": [],
   "source": [
    "#Dias em causa (1 fds depois da páscoa)\n",
    "dfFdsPiloto=dfFds.loc[(dfFds['DATA'] >= '2022-04-22') & (dfFds['DATA'] <= '2022-05-15')].copy()\n",
    "\n",
    "#Organizar para dar para ler mais facilmente\n",
    "dfFdsPiloto=dfFdsPiloto.sort_values(by=[\"STORE\", \"DESC_ARTIGO\",\"DATA\"])"
   ]
  },
  {
   "cell_type": "markdown",
   "metadata": {},
   "source": [
    "> - Colunas para a **semana** e o **dia**"
   ]
  },
  {
   "cell_type": "code",
   "execution_count": null,
   "metadata": {},
   "outputs": [],
   "source": [
    "# Copiar para fazer alterações mantendo o original\n",
    "dfFdsFinal = dfFdsPiloto.copy()\n",
    "\n",
    "#Semana\n",
    "dfFdsFinal['Semana'] = dfFdsFinal['DATA'].dt.isocalendar().week\n",
    "dfFdsFinal['Semana'] = dfFdsFinal.groupby('Semana').ngroup() + 1\n",
    "\n",
    "#Dia\n",
    "nome_dia = dfFdsFinal['DATA'].dt.day_name().map({'Friday': 'Sexta', 'Saturday': 'Sábado', 'Sunday': 'Domingo'})\n",
    "dfFdsFinal['Dia'] = nome_dia"
   ]
  },
  {
   "cell_type": "code",
   "execution_count": null,
   "metadata": {},
   "outputs": [],
   "source": []
  },
  {
   "cell_type": "code",
   "execution_count": null,
   "metadata": {},
   "outputs": [],
   "source": []
  },
  {
   "cell_type": "markdown",
   "metadata": {},
   "source": [
    "<a id=\"section8\"></a>\n",
    "# <font color=\"green\">8. Mergir Notebooks</font>"
   ]
  },
  {
   "cell_type": "code",
   "execution_count": null,
   "metadata": {},
   "outputs": [],
   "source": [
    "import pandas\n",
    "import nbformat\n",
    "\n",
    "notebook_A = nbformat.read(\"C:\\\\Users\\\\joao_\\\\OneDrive\\Ambiente de Trabalho\\\\B&N Código\\\\Lactogal\\\\cPadrão\\\\1LJunho_DataCleaning.ipynb\", nbformat.NO_CONVERT)\n",
    "notebook_B = nbformat.read(\"C:\\\\Users\\\\joao_\\\\OneDrive\\Ambiente de Trabalho\\\\B&N Código\\\\Lactogal\\\\cPadrão\\\\2LJunho_Wide_Wrangling.ipynb\", nbformat.NO_CONVERT)\n",
    "notebook_C = nbformat.read(\"C:\\\\Users\\\\joao_\\\\OneDrive\\Ambiente de Trabalho\\\\B&N Código\\\\Lactogal\\\\cPadrão\\\\5_GráficosR.ipynb\", nbformat.NO_CONVERT)\n",
    "\n",
    "\n",
    "\n",
    "notebook_A.cells.extend(notebook_B.cells)\n",
    "notebook_A.cells.extend(notebook_C.cells)\n",
    "\n",
    "\n",
    "nbformat.write(notebook_A, \"C:\\\\Users\\\\joao_\\\\OneDrive\\Ambiente de Trabalho\\\\B&N Código\\\\Lactogal\\\\cPadrão\\\\Lacto_Completo.ipynb\")\n"
   ]
  },
  {
   "cell_type": "markdown",
   "metadata": {},
   "source": [
    "[Índice](#section0)"
   ]
  }
 ],
 "metadata": {
  "kernelspec": {
   "display_name": "Python 3 (ipykernel)",
   "language": "python",
   "name": "python3"
  },
  "language_info": {
   "codemirror_mode": {
    "name": "ipython",
    "version": 3
   },
   "file_extension": ".py",
   "mimetype": "text/x-python",
   "name": "python",
   "nbconvert_exporter": "python",
   "pygments_lexer": "ipython3",
   "version": "3.10.9"
  }
 },
 "nbformat": 4,
 "nbformat_minor": 4
}
