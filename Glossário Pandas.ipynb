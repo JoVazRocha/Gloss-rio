{
 "cells": [
  {
   "cell_type": "markdown",
   "metadata": {},
   "source": [
    "# <center><font color=\"green\">Glossário Pandas</font></center>\n",
    "\n",
    "# Imports Importantes"
   ]
  },
  {
   "cell_type": "code",
   "execution_count": 10,
   "metadata": {},
   "outputs": [
    {
     "name": "stdout",
     "output_type": "stream",
     "text": [
      "CPU times: total: 0 ns\n",
      "Wall time: 0 ns\n"
     ]
    }
   ],
   "source": [
    "%%time\n",
    "import pandas as pd\n",
    "import numpy as np\n",
    "import datetime\n",
    "import json                        #Para poder fazer coisas com ficheiros json            \n",
    "import os                          #Ler ficheiros em pastas"
   ]
  },
  {
   "cell_type": "markdown",
   "metadata": {},
   "source": [
    "# Opções "
   ]
  },
  {
   "cell_type": "code",
   "execution_count": null,
   "metadata": {},
   "outputs": [],
   "source": [
    "print(\"Linhas:\",pd.options.display.max_rows) # = x\n",
    "print(\"Colunas:\",pd.options.display.max_columns) # = y\n",
    "print(\"Tamanho colunas:\",pd.options.display.max_colwidth) # = z\n",
    "print(\"Casas decimais:\",pd.options.display.precision) # = w"
   ]
  },
  {
   "cell_type": "markdown",
   "metadata": {},
   "source": [
    "# Directórias "
   ]
  },
  {
   "cell_type": "code",
   "execution_count": 3,
   "metadata": {},
   "outputs": [
    {
     "data": {
      "text/plain": [
       "WindowsPath('C:/Users/Chip7/Desktop/Glossário')"
      ]
     },
     "execution_count": 3,
     "metadata": {},
     "output_type": "execute_result"
    }
   ],
   "source": [
    "from pathlib import Path\n",
    "Path.cwd()\n",
    "\n",
    "# Mover o Ficheiro\n",
    "import shutil\n",
    "\n",
    "origem = filename\n",
    "destino = 'C:\\\\Users\\\\Chip7\\\\Desktop\\\\B&N\\\\Dados\\\\2.Delta\\\\Sonae\\\\Stocks\\\\Stocks2024\\\\JanAbril'\n",
    "\n",
    "shutil.move(origem, destino)\n",
    "\n",
    "# Remover um ficheiro\n",
    "os.remove(filename)"
   ]
  },
  {
   "cell_type": "code",
   "execution_count": 2,
   "metadata": {},
   "outputs": [
    {
     "data": {
      "text/plain": [
       "'C:\\\\Users\\\\Chip7\\\\Desktop\\\\Glossário'"
      ]
     },
     "execution_count": 2,
     "metadata": {},
     "output_type": "execute_result"
    }
   ],
   "source": [
    "pwd # print woking directory"
   ]
  },
  {
   "cell_type": "markdown",
   "metadata": {},
   "source": [
    "# Libertar Memória "
   ]
  },
  {
   "cell_type": "code",
   "execution_count": null,
   "metadata": {},
   "outputs": [],
   "source": [
    "import gc\n",
    "\n",
    "del df\n",
    "gc.collect()  # garbage collection"
   ]
  },
  {
   "cell_type": "markdown",
   "metadata": {},
   "source": [
    "<a id=\"section0\"></a>\n",
    "\n",
    "# Índice\n",
    "\n",
    "1. [Criar](#section1)<br>\n",
    "2. [Ler e Escrever](#section2)<br>\n",
    "3. [Ver](#section3)<br>\n",
    "4. [Limpar e Merge](#section4)<br>\n",
    "5. [Limitar](#section5)<br>\n",
    "6. [Datetime](#section6)<br>\n",
    "7. [Organização](#section7)<br>\n",
    "8. [Widgets](#section8)<br>\n",
    "9. [Transformar](#section9)<br>\n",
    "10. [Juntar Notebooks](#section10)<br>\n",
    "11. [Markdown](#section11)  \n",
    "12. [Gráficos](#section12)"
   ]
  },
  {
   "cell_type": "markdown",
   "metadata": {},
   "source": [
    "<a id=\"section1\"></a>\n",
    "# <font color=\"green\">1. Criar</font>"
   ]
  },
  {
   "cell_type": "markdown",
   "metadata": {},
   "source": [
    "- <u>`DataFrames`"
   ]
  },
  {
   "cell_type": "code",
   "execution_count": null,
   "metadata": {},
   "outputs": [],
   "source": [
    "df = pd.DataFrame({\"Coluna1\":[100, 200], \"Coluna2\":[300,400]})\n",
    "\n",
    "#ou através de funções\n",
    "df = pd.DataFrame(np.random.rand(4,8), columns=list(\"abcdefgh\"))\n",
    "\n",
    "#ou através de dicionários\n",
    "df = pd.DataFrame(dicionario.items(), columns=[\"Coluna1\",\"Coluna2\"])"
   ]
  },
  {
   "cell_type": "markdown",
   "metadata": {},
   "source": [
    "- <u>`Colunas`</u>"
   ]
  },
  {
   "cell_type": "code",
   "execution_count": null,
   "metadata": {},
   "outputs": [],
   "source": [
    "df[\"Coluna_vazia_de_strings\"] = \"\"\n",
    "df[\"Coluna_vazia_de_inteiros\"] = pd.Series(dtype='int')\n",
    "df[\"Coluna_Interessante\"] = lista_interessante"
   ]
  },
  {
   "cell_type": "markdown",
   "metadata": {},
   "source": [
    "[Índice](#section0)"
   ]
  },
  {
   "cell_type": "markdown",
   "metadata": {},
   "source": [
    "<a id=\"section2\"></a>\n",
    "# <font color=\"green\">2. Ler e Escrever</font>"
   ]
  },
  {
   "cell_type": "markdown",
   "metadata": {},
   "source": [
    "- <u> `Tipos de ficheiros diferentes`"
   ]
  },
  {
   "cell_type": "code",
   "execution_count": null,
   "metadata": {},
   "outputs": [],
   "source": [
    "                                                > - Csv - <\n",
    "\n",
    "#Ler\n",
    "df=pd.read_csv('x.csv')\n",
    "\n",
    "#Escrever\n",
    "df.to_csv('y.csv', sep=',', index=False)\n",
    "\n",
    "#Função\n",
    "def escrever_csv(dfa, nome):\n",
    "    dfa.to_csv('%s.csv' %nome, index=False)\n",
    "\n",
    "#####################################################################\n",
    "    \n",
    "                                                > - Txt - <\n",
    "\n",
    "#Ler\n",
    "df=pd.read_csv('x.txt', delimiter='\\t', dtype='float64')\n",
    "\n",
    "#Escrever\n",
    "df.to_csv('y.txt', sep='\\t', index=False)\n",
    "\n",
    "#Função\n",
    "def escrever_txt(dfa, nome):\n",
    "    dfa.to_csv('%s.txt' %nome, sep='\\t', index=False)\n",
    "\n",
    "df=pd.read_csv('C:\\\\Users\\\\joao_\\\\OneDrive\\\\Ambiente de Trabalho\\\\oi.txt', delimiter=',')\n",
    "\n",
    "#####################################################################\n",
    "\n",
    "                                                > - Excel - <\n",
    "\n",
    "#Ler\n",
    "df=pd.read_excel('x.xlsx', sheet_name='nome')\n",
    "#Escrever\n",
    "df.to_excel('y.xlsx', index=False)\n",
    "\n",
    "#Função\n",
    "def escrever_excel(dfa, nome):\n",
    "    dfa.to_excel('%s.xlsx' %nome, index=False)\n",
    "\n",
    "#####################################################################\n",
    "    \n",
    "                                                > - Json - <\n",
    "\n",
    "#Ler\n",
    "def ler_json(directoria, nome_ficheiro):\n",
    "    with open(directoria + nome_ficheiro+'.json', 'r') as file:\n",
    "        mapa = json.load(file)\n",
    "    return mapa\n",
    "\n",
    "#Escrever\n",
    "#Função\n",
    "def escrever_json(dicionario, directoria, nome_ficheiro):\n",
    "    with open(directoria + nome_ficheiro + '.json', 'w') as file:\n",
    "        json.dump(dicionario, file)   \n",
    "    print(f\"O dicionário está escrito em {directoria}\")\n",
    "\n",
    "\n",
    "# Como foi escrito o dicionário\n",
    "\n",
    "dfVendedor=pd.read_excel(f\"C:\\\\Users\\\\Chip7\\\\Desktop\\\\B&N\\\\Dados\\\\2.{Marca}\\\\Sonae\\\\Vendedor_Loja_2024.xlsx\", sheet_name = \"Lojas Sonae\")\n",
    "dfVendedor = dfVendedor.rename(columns={\"Cód. Loja\":\"STORE\"})\n",
    "dicionarioVendedores = dict(zip(dfVendedor['STORE'], dfVendedor['Vendedor']))\n",
    "\n",
    "directoria ='C:\\\\Users\\\\Chip7\\\\Desktop\\\\B&N\\\\Dados\\\\2.Delta\\\\Sonae\\\\'\n",
    "\n",
    "def escrever_json(dicionario, directoria, nome_ficheiro):\n",
    "    with open(directoria + nome_ficheiro + '.json', 'w') as file:\n",
    "        json.dump(dicionario, file)   \n",
    "    print(f\"O dicionário está escrito em {directoria}\")\n",
    "\n",
    "escrever_json(dicionarioVendedores, directoria, 'Vendedor_Loja_2024')\n",
    "\n",
    "#####################################################################\n",
    "        \n",
    "                                                > - gzip - <\n",
    "\n",
    "#Ler\n",
    "pd.read_parquet('df.parquet.gzip')\n",
    "\n",
    "#Escrever\n",
    "df.to_parquet('df.parquet.gzip', compression='gzip')\n",
    "\n"
   ]
  },
  {
   "cell_type": "markdown",
   "metadata": {},
   "source": [
    "- <u> `Coisas fixes`"
   ]
  },
  {
   "cell_type": "code",
   "execution_count": null,
   "metadata": {},
   "outputs": [],
   "source": [
    "skiprows = None\n",
    "skipfooter = None"
   ]
  },
  {
   "cell_type": "markdown",
   "metadata": {},
   "source": [
    "- <u> `Múltiplos ficheiros numa pasta`"
   ]
  },
  {
   "cell_type": "code",
   "execution_count": null,
   "metadata": {},
   "outputs": [],
   "source": [
    "# Se quisermos ler todos os ficheiros dentro de uma pasta\n",
    "\n",
    "directoria = 'Directória_da_Pasta'\n",
    "\n",
    "ficheiros = [file for file in os.listdir(\"Directória_da_Pasta\")]\n",
    "dataframes = []\n",
    "\n",
    "# Iterar pelos ficheiros todos dentro da directória\n",
    "for file in ficheiros:\n",
    "    df = pd.read_csv(\"Directória_da_Pasta\" + file)\n",
    "    dataframes.append(df)\n",
    "\n",
    "dfTotal = pd.concat(dataframes, ignore_index=True)\n",
    "\n",
    "#####################################################################\n",
    "\n",
    "# Se quisermos ler ficheiros específicos dentro de uma pasta\n",
    "\n",
    "directoria = 'Directória_da_Pasta'\n",
    "\n",
    "ficheiros = [file for file in os.listdir(\"Directória_da_Pasta\")]\n",
    "dataframes = []\n",
    "\n",
    "# Iterar pelos ficheiros de interesse dentro da directória\n",
    "for filename in os.listdir(directoria):\n",
    "    if filename.startswith(\"padrão_de_início_dos_ficheiros\") and filename.endswith(\".tipo_dos_ficheiros\"):\n",
    "        \n",
    "        filepath = os.path.join(directoria, filename)\n",
    "        df = pd.read_excel(filepath)\n",
    "        \n",
    "        # Add the DataFrame to the list\n",
    "        dataframes.append(df)\n",
    "\n",
    "# Concatenate all the DataFrames into a single DataFrame\n",
    "dfTotal = pd.concat(dataframes, ignore_index=True)\n",
    "\n",
    "#####################################################################\n",
    "\n",
    "from glob import glob\n",
    "\n",
    "directoria = 'C:\\\\....\\\\'\n",
    "nome_repetido = 'padrão'\n",
    "tipo = 'csv'\n",
    "\n",
    "ficheiros = sorted(glob(f'{directoria}{nome_repetido}?*.{tipo}'))\n",
    "df = pd.concat((pd.read_csv(ficheiro) for ficheiro in ficheiros), ignore_index=True) # mudar aqui a função de leitura se necessário"
   ]
  },
  {
   "cell_type": "markdown",
   "metadata": {},
   "source": [
    "[Índice](#section0)"
   ]
  },
  {
   "cell_type": "markdown",
   "metadata": {},
   "source": [
    "<a id=\"section3\"></a>\n",
    "# <font color=\"green\">3. Ver"
   ]
  },
  {
   "cell_type": "markdown",
   "metadata": {},
   "source": [
    "- `Acções interessantes em dataframes (por ordem de utilização minha)` "
   ]
  },
  {
   "cell_type": "code",
   "execution_count": null,
   "metadata": {},
   "outputs": [],
   "source": [
    "df.head()             # Ver primeiras 4 linhas de um dataframe\n",
    ".tolist()             # Depois de acções que devolvem séries, tolist() faz com que passem a ser listas\n",
    "df.columns            # Ver todas as colunas de um dataframe\n",
    "df[\"Coluna\"].unique() # Todas as opções de valores dentro de colunas\n",
    "df.info()             # Informações variadas sobre os dataframes\n",
    "df.index              # É experimentar para perceber o resto\n",
    "df.shape\n",
    "df.value_counts()\n",
    "df.count()\n",
    "df.size\n",
    "df.dtypes\n",
    "df.describe()\n",
    "\n",
    "# Funções\n",
    "df.mean()\n",
    "df.std()\n",
    "df.sum()\n",
    "df.max()\n",
    "df.min()\n",
    "df.median()\n",
    "df.quantile() # de 0 até 1, é o percentil\n",
    "\n",
    "\n",
    "from summarytools import dfSummary\n",
    "dfSummary(dfNinjas)"
   ]
  },
  {
   "cell_type": "markdown",
   "metadata": {},
   "source": [
    "- `Ver por coluna e colocar condições` "
   ]
  },
  {
   "cell_type": "code",
   "execution_count": null,
   "metadata": {},
   "outputs": [],
   "source": [
    "# Uma única coluna\n",
    "df['Coluna'].head()\n",
    "df.Coluna.head()\n",
    "\n",
    "# Várias colunas\n",
    "df[['Coluna1','Coluna2','Coluna3']]\n",
    "\n",
    "\n",
    "# Criar condições de visualização\n",
    "df[(df['Coluna1']>1) & (df['Coluna2']=='Sim')].head()\n",
    "# Forma mais fácil é criar uma variável com a condição\n",
    "mask = (df['Coluna1']>1) & (df['Coluna2']=='Sim')\n",
    "df[mask].head()\n",
    "\n",
    "# Outra forma é usar o .query\n",
    "df.query('Coluna1 > 1 & Coluna2 == \"Sim\" ')"
   ]
  },
  {
   "cell_type": "markdown",
   "metadata": {},
   "source": [
    "[Índice](#section0)"
   ]
  },
  {
   "cell_type": "markdown",
   "metadata": {},
   "source": [
    "<a id=\"section4\"></a>\n",
    "# <font color=\"green\">4. Limpar"
   ]
  },
  {
   "cell_type": "markdown",
   "metadata": {},
   "source": [
    "> Drop"
   ]
  },
  {
   "cell_type": "code",
   "execution_count": null,
   "metadata": {},
   "outputs": [],
   "source": [
    "df = df.drop(columns=[''])          #Eliminar colunas escolhidas\n",
    "\n",
    "#Duplicados\n",
    "df = df.groupby('A manter').apply(lambda x: x.drop_duplicates(subset=['A eliminar'], keep='first'))\n",
    "df = df.reset_index(drop=True)\n",
    "#ou\n",
    "df = df.drop_duplicates()"
   ]
  },
  {
   "cell_type": "markdown",
   "metadata": {},
   "source": [
    "> Rename"
   ]
  },
  {
   "cell_type": "code",
   "execution_count": null,
   "metadata": {},
   "outputs": [],
   "source": [
    "#Colunas\n",
    "df = df.rename(columns={\"original1\": \"novo1\", \"original2\": \"novo2\"})\n",
    "df.columns = df.columns.str.replace(' ', '_')\n",
    "\n",
    "#Elementos de uma coluna\n",
    "df[\"Coluna\"] = df[\"Coluna\"].replace({\"A\": 1, \"B\": \"b\"})"
   ]
  },
  {
   "cell_type": "markdown",
   "metadata": {},
   "source": [
    "> Eliminar Nan"
   ]
  },
  {
   "cell_type": "code",
   "execution_count": null,
   "metadata": {},
   "outputs": [],
   "source": [
    "#Com valor específico\n",
    "df.fillna(0)\n",
    "\n",
    "#Com o valor anterior ou posterior, respectivamente\n",
    "df.fillna(method=\"ffill\")\n",
    "df.fillna(method=\"bfill\")\n",
    "\n",
    "#Eliminar linhas\n",
    "df.dropna() #todas as que têm pelo menos 1 Nan\n",
    "df.dropna(how='all') #só se todos os valores da linha forem Nan"
   ]
  },
  {
   "cell_type": "markdown",
   "metadata": {},
   "source": [
    "> Substituir letras"
   ]
  },
  {
   "cell_type": "code",
   "execution_count": null,
   "metadata": {},
   "outputs": [],
   "source": [
    "dfSonae['STORE'] = dfSonae['STORE'].str.replace('L', '')\n",
    "dfSonae['STORE'] = dfSonae['STORE'].astype('int') # Este está aqui porque geralmente é necessário logo a seguir"
   ]
  },
  {
   "cell_type": "markdown",
   "metadata": {},
   "source": [
    "> Alterações da letras de maiúsculas para minúsculas ou vice versa"
   ]
  },
  {
   "cell_type": "code",
   "execution_count": null,
   "metadata": {},
   "outputs": [],
   "source": [
    "df['Coluna de interesse'] = df['Coluna de interesse'].str.title()\n",
    "df['Coluna de interesse'] = df['Coluna de interesse'].str.upper()\n",
    "df['Coluna de interesse'] = df['Coluna de interesse'].str.lower()"
   ]
  },
  {
   "cell_type": "markdown",
   "metadata": {},
   "source": [
    "> ## Unir bases"
   ]
  },
  {
   "cell_type": "code",
   "execution_count": null,
   "metadata": {},
   "outputs": [],
   "source": [
    "dfMerged=pd.merge(df1, df2, how=\"inner/left/right/outter\", on = \"x\")\n",
    "\n",
    "dataframes=[\"x\",\"y\"]\n",
    "df = pd.concat(dataframes, ignore_index=True)\n",
    "\n",
    "df = df.melt(id_vars=nomesResto, value_vars=nomesProd, var_name='DESC_ARTIGO', value_name='NinjaInfo')\n",
    "df_wide = df_long.pivot_table(index='Name', columns='Date', values='Value', aggfunc='sum')"
   ]
  },
  {
   "cell_type": "code",
   "execution_count": null,
   "metadata": {},
   "outputs": [],
   "source": [
    "#Somar colunas\n",
    "df['new_column'] = df[['col1', 'col2', 'col3', 'col4', 'col5', 'col6', 'col7', 'col8', 'col9', 'col10']].sum(axis=1)\n"
   ]
  },
  {
   "cell_type": "markdown",
   "metadata": {},
   "source": [
    "[Índice](#section0)"
   ]
  },
  {
   "cell_type": "markdown",
   "metadata": {},
   "source": [
    "<a id=\"section5\"></a>\n",
    "# <font color=\"green\">5. Limitar"
   ]
  },
  {
   "cell_type": "markdown",
   "metadata": {},
   "source": [
    " - <u>`Seleccionar determinadas linhas trendo em contra palavras chave`"
   ]
  },
  {
   "cell_type": "code",
   "execution_count": null,
   "metadata": {},
   "outputs": [],
   "source": [
    "# O novo dataframe vai ser uma parte do dataframe total\n",
    "\n",
    "dfInteressante = df[df[\"Coluna_de_interesse\"].str.contains(\"Palavra_Escolhida\")]\n",
    "dfInteressante = df[df[\"Coluna_de_interesse\"].str.endswith(\"Palavra_Escolhida\")]\n",
    "dfInteressante = df[df[\"Coluna_de_interesse\"].str.startswith(\"Palavra_Escolhida\")]\n"
   ]
  },
  {
   "cell_type": "markdown",
   "metadata": {},
   "source": [
    " - <u>`Seleccionar determinadas Colunas nomes de Colunas`"
   ]
  },
  {
   "cell_type": "code",
   "execution_count": null,
   "metadata": {},
   "outputs": [],
   "source": [
    "# Usar lista de colunas a excluir para estabelecer que colunas manter\n",
    "Lista_Colunas_a_Manter = [x for x in Todas_Colunas if x not in Colunas_Eliminar]\n",
    "df_Colunas_Certas = df_Total[Lista_Colunas_a_Manter]\n",
    "df_Colunas_Certas = df.drop(columns=[Lista_Colunas_a_Manter])\n",
    "\n",
    "\n",
    "\n",
    "# Usar a função filter para escolher colunas que contenham palavras chave\n",
    "df[[\"DATA\"] + df.filter(like='Palavra/Expressão_Escolhida').columns.tolist()]"
   ]
  },
  {
   "cell_type": "markdown",
   "metadata": {},
   "source": [
    " - <u>`Split`"
   ]
  },
  {
   "cell_type": "code",
   "execution_count": null,
   "metadata": {},
   "outputs": [],
   "source": [
    "# Utilização básica do split\n",
    "\n",
    "frase = \"Uma, frase, muito, simples!\"\n",
    "palavras = frase.split() # Separa as palavras em strings diferentes pelo espaço\n",
    "palavras2 = frase.split(',') # Separa as palavras em strings diferentes pela vírgula\n",
    "# A seguir daria jeito fazer um strip\n",
    "\n",
    "# Criar 2 colunas a partir de uma, separando valores por um elemento constante\n",
    "df[['new_column_1', 'new_column_2']] = df['column_to_split'].str.split('-', expand=True)\n",
    "\n",
    "\n",
    "# Se quiser fazer split de um elemento apenas mete-se n = valor\n",
    "my_string = \"apple orange banana mango\"\n",
    "result = my_string.split(\" \", 1)\n",
    "print(result)"
   ]
  },
  {
   "cell_type": "markdown",
   "metadata": {},
   "source": [
    " - <u>`Strip`"
   ]
  },
  {
   "cell_type": "code",
   "execution_count": 4,
   "metadata": {},
   "outputs": [],
   "source": [
    "# Tirar elementos do início e fim de uma string\n",
    "\n",
    "texto = \"   Hello, World!###    \"\n",
    "semEspaço = texto.strip() # Tira o espaço da esquerda e da direita\n",
    "semEspaçoCardinal = semEspaço.strip('#') # Tira os cardinais à direita\n"
   ]
  },
  {
   "cell_type": "markdown",
   "metadata": {},
   "source": [
    "[Índice](#section0)"
   ]
  },
  {
   "cell_type": "markdown",
   "metadata": {},
   "source": [
    "<a id=\"section6\"></a>\n",
    "# <font color=\"green\">6. Datetime"
   ]
  },
  {
   "cell_type": "code",
   "execution_count": null,
   "metadata": {},
   "outputs": [],
   "source": [
    "# Passar para datetime\n",
    "df['DATA']= pd.to_datetime(df['DATA'], format='%d/%m/%Y'ou '%d-%m-%Y')\n",
    "\n",
    "# Limpar a data para aparecer apenas ano, mês e dia\n",
    "df['DATA'] = df['DATA'].dt.strftime(\"%Y-%m-%d\")\n",
    "\n",
    "df['DATA'].dt.strftime('%H:%M') #apenas hora e minuto\n",
    "\n",
    "# Ver dados entre determinadas datas\n",
    "df[df[\"DATA\"].between(\"data_início\", \"data_fim\")].head()\n",
    "\n",
    "# Mudar o ano\n",
    "df.loc[df['DATA'].dt.year == 2021, 'DATA'] = df.loc[dfTeste['DATA'].dt.year == 2021, 'DATA'] + pd.offsets.DateOffset(years=1)"
   ]
  },
  {
   "cell_type": "markdown",
   "metadata": {},
   "source": [
    " - <u>`Componentes da Data`"
   ]
  },
  {
   "cell_type": "code",
   "execution_count": null,
   "metadata": {},
   "outputs": [],
   "source": [
    "df[\"Ano\"] = df['Data'].dt.year\n",
    "\n",
    "df[\"Mês\"] = df['Data'].dt.month\n",
    "\n",
    "df[\"Dia\"] = df['Data'].dt.day\n",
    "\n",
    "df[\"Hora\"] = df['Data'].dt.hour"
   ]
  },
  {
   "cell_type": "code",
   "execution_count": null,
   "metadata": {},
   "outputs": [],
   "source": [
    "df['DATA'] = df['DATA'].apply(lambda x: x.replace(day=16))"
   ]
  },
  {
   "cell_type": "markdown",
   "metadata": {},
   "source": [
    " - <u>`Aceder a dias da semana`"
   ]
  },
  {
   "cell_type": "code",
   "execution_count": null,
   "metadata": {},
   "outputs": [],
   "source": [
    "df['DATA'].dt.weekday.isin([0, 4]) # dias de segunda a sexta\n",
    "df['DATA'].dt.weekday.isin([5, 6]) # dias de sábado a domingo\n",
    "        \n",
    "df_Semana = df[df['DATA'].dt.weekday.isin([0, 4])]\n",
    "df_Fds = df[df['DATA'].dt.weekday.isin([5, 6])] "
   ]
  },
  {
   "cell_type": "markdown",
   "metadata": {},
   "source": [
    " - <u>`Fazer coluna com dias da semana`"
   ]
  },
  {
   "cell_type": "code",
   "execution_count": null,
   "metadata": {},
   "outputs": [],
   "source": [
    "df['Dia_da_Semana'] = df['DATA'].dt.day_name().map({'Monday': \"Segunda\",\n",
    "                                                    'Tuesday': \"Terça\",\n",
    "                                                    'Wednesday': \"Quarta\",\n",
    "                                                    'Thursday': \"Quinta\",\n",
    "                                                    'Friday': 'Sexta', \n",
    "                                                    'Saturday': 'Sábado', \n",
    "                                                    'Sunday': 'Domingo'})"
   ]
  },
  {
   "cell_type": "markdown",
   "metadata": {},
   "source": [
    " - <u>`Mudar datas`"
   ]
  },
  {
   "cell_type": "code",
   "execution_count": null,
   "metadata": {},
   "outputs": [],
   "source": [
    "df.loc[df['DATA'].dt.day == 28, 'DATA'] = df['DATA'] - pd.Timedelta(days=1)\n"
   ]
  },
  {
   "cell_type": "markdown",
   "metadata": {},
   "source": [
    "[Índice](#section0)"
   ]
  },
  {
   "cell_type": "markdown",
   "metadata": {},
   "source": [
    "<a id=\"section7\"></a>\n",
    "# <font color=\"green\">7. Organização</font>"
   ]
  },
  {
   "cell_type": "markdown",
   "metadata": {},
   "source": [
    " - <u>`Ordenar`"
   ]
  },
  {
   "cell_type": "code",
   "execution_count": null,
   "metadata": {},
   "outputs": [],
   "source": [
    "df.sort_values(by=[\"x\", \"y\", \"z\"])"
   ]
  },
  {
   "cell_type": "code",
   "execution_count": null,
   "metadata": {},
   "outputs": [],
   "source": [
    "dfOrganizado = df.iloc[:, np.r_[:5,6:9,-1,5,-2,-3]]"
   ]
  },
  {
   "cell_type": "code",
   "execution_count": null,
   "metadata": {},
   "outputs": [],
   "source": [
    "# Numera as colunas para ser mais fácil organizar posteriormente o DataFrame: Magia\n",
    "[f\"{index}: {column}\" for index, column in enumerate(df.columns.tolist())]"
   ]
  },
  {
   "cell_type": "markdown",
   "metadata": {},
   "source": [
    " - <u>`Fazer um dicionário`"
   ]
  },
  {
   "cell_type": "code",
   "execution_count": null,
   "metadata": {},
   "outputs": [],
   "source": [
    "dicionário = dict(zip(df['Coluna_Chave'], df['Coluna_Alvo']))\n",
    "#ou \n",
    "dicionário = df.set_index('Coluna_Chave')['Coluna_Alvo'].to_dict()\n",
    "\n",
    "# Usar o dicionário\n",
    "df[\"Novo\"] = df[\"Chave\"].map(dicionário)\n",
    "my_dict_int = {int(key): value for key, value in my_dict_str.items()}\n",
    "\n",
    "\n",
    "#usar dicionário para renomear as colunas\n",
    "df = df.rename(columns=lambda x: dicionário.get(x, x))\n",
    "\n",
    "# Inverter dicionário\n",
    "reversed_dict = {value: key for key, values in original_dict.items() for value in values}\n"
   ]
  },
  {
   "cell_type": "code",
   "execution_count": null,
   "metadata": {},
   "outputs": [],
   "source": [
    "df['Codigo_Loja'] = df['Codigo_Loja'].fillna(df['Loja'].map(dicionarioCodigoLojas))"
   ]
  },
  {
   "cell_type": "markdown",
   "metadata": {},
   "source": [
    " - <u>`Arredondar`"
   ]
  },
  {
   "cell_type": "code",
   "execution_count": 5,
   "metadata": {},
   "outputs": [
    {
     "data": {
      "text/plain": [
       "17"
      ]
     },
     "execution_count": 5,
     "metadata": {},
     "output_type": "execute_result"
    }
   ],
   "source": [
    "# À unidade:\n",
    "round(17.49)\n",
    "round(df['Coluna_de_Interesse'])\n",
    "\n",
    "# A determinadas casas decimais:\n"
   ]
  },
  {
   "cell_type": "markdown",
   "metadata": {},
   "source": [
    "# Loc, iloc, at, iat"
   ]
  },
  {
   "cell_type": "markdown",
   "metadata": {},
   "source": [
    "- O loc é muito importante porque para além de permitir __`acessar`__ partes específicas de uma base, também permite __`alterar`__ os dados! <br>\n",
    "- Eu utilizo muito a forma de acessar <u>`sem loc`</u> porque me é mais natural e acho que fica melhor organizado, mas essa forma não permite alterar os dados!\n",
    "> Exemplo:"
   ]
  },
  {
   "cell_type": "code",
   "execution_count": null,
   "metadata": {},
   "outputs": [],
   "source": [
    "condição = df.Valor >= 5  # por exemplo\n",
    "\n",
    "# Acessar\n",
    "\n",
    "df.loc[condição, 'coluna']                       # com loc\n",
    "df[condição]['coluna'] ou df[condição].coluna    # sem loc\n",
    "\n",
    "#Alterar\n",
    "\n",
    "df.loc[condição, 'coluna'] = valor_desejado      # Funciona!\n",
    "df[condição].coluna = valor_desejado             # Não funciona! :(\n"
   ]
  },
  {
   "cell_type": "code",
   "execution_count": null,
   "metadata": {},
   "outputs": [],
   "source": [
    "# Create a sample DataFrame\n",
    "data = {'A': [1, 2, 3, 4], 'B': [5, 6, 7, 8]}\n",
    "df = pd.DataFrame(data)\n",
    "\n",
    "# loc\n",
    "df.loc[df['A'] > 2, 'B'] = 10\n",
    "\n",
    "# iloc\n",
    "df.iloc[1:3, 0] = 0\n",
    "\n",
    "# at\n",
    "df.at[0, 'A'] = 100\n",
    "\n",
    "# iat\n",
    "df.iat[2, 1] = 50\n"
   ]
  },
  {
   "cell_type": "markdown",
   "metadata": {},
   "source": [
    "<a id=\"section8\"></a>\n",
    "# <font color=\"green\">8. Widgets</font>"
   ]
  },
  {
   "cell_type": "code",
   "execution_count": null,
   "metadata": {},
   "outputs": [],
   "source": [
    "from ipywidgets import interact\n",
    "@interact\n",
    "def filtrar_produto(produto = list(df1.DESC_ARTIGO.unique())):\n",
    "    \n",
    "    return df1[df1.DESC_ARTIGO == produto].head() # Alterável"
   ]
  },
  {
   "cell_type": "code",
   "execution_count": null,
   "metadata": {},
   "outputs": [],
   "source": [
    "@interact\n",
    "def filtrar_loja(loja = list(df1.Loja.unique())):\n",
    "    \n",
    "    return df1[df1.Loja == loja].head() # Alterável"
   ]
  },
  {
   "cell_type": "markdown",
   "metadata": {},
   "source": [
    "## <font color=\"blue\">Há notificações!!!!"
   ]
  },
  {
   "cell_type": "code",
   "execution_count": 2,
   "metadata": {},
   "outputs": [
    {
     "data": {
      "application/javascript": [
       "if (!(\"Notification\" in window)) {\n",
       "    alert(\"This browser does not support desktop notifications, so the %%notify magic will not work.\");\n",
       "} else if (Notification.permission !== 'granted' && Notification.permission !== 'denied') {\n",
       "    Notification.requestPermission(function (permission) {\n",
       "        if(!('permission' in Notification)) {\n",
       "            Notification.permission = permission;\n",
       "        }\n",
       "    })\n",
       "}\n"
      ],
      "text/plain": [
       "<IPython.core.display.Javascript object>"
      ]
     },
     "metadata": {},
     "output_type": "display_data"
    }
   ],
   "source": [
    "%load_ext jupyternotify"
   ]
  },
  {
   "cell_type": "code",
   "execution_count": 3,
   "metadata": {
    "collapsed": true
   },
   "outputs": [
    {
     "name": "stdout",
     "output_type": "stream",
     "text": [
      "Deu? :O\n"
     ]
    },
    {
     "data": {
      "application/javascript": [
       "$(document).ready(\n",
       "    function() {\n",
       "        function appendUniqueDiv(){\n",
       "            // append a div with our uuid so we can check that it's already\n",
       "            // been sent and avoid duplicates on page reload\n",
       "            var notifiedDiv = document.createElement(\"div\")\n",
       "            notifiedDiv.id = \"a5d88d31-23c5-47c7-b943-a20524799284\"\n",
       "            element.append(notifiedDiv)\n",
       "        }\n",
       "\n",
       "        // only send notifications if the pageload is complete; this will\n",
       "        // help stop extra notifications when a saved notebook is loaded,\n",
       "        // which during testing gives us state \"interactive\", not \"complete\"\n",
       "        if (document.readyState === 'complete') {\n",
       "            // check for the div that signifies that the notification\n",
       "            // was already sent\n",
       "            if (document.getElementById(\"a5d88d31-23c5-47c7-b943-a20524799284\") === null) {\n",
       "                var notificationPayload = {\"requireInteraction\": false, \"icon\": \"/static/base/images/favicon.ico\", \"body\": \"Cell execution has finished!\"};\n",
       "                if (Notification.permission !== 'denied') {\n",
       "                    if (Notification.permission !== 'granted') { \n",
       "                        Notification.requestPermission(function (permission) {\n",
       "                            if(!('permission' in Notification)) {\n",
       "                                Notification.permission = permission\n",
       "                            }\n",
       "                        })\n",
       "                    }\n",
       "                    if (Notification.permission === 'granted') {\n",
       "                    var notification = new Notification(\"Jupyter Notebook\", notificationPayload)\n",
       "                    appendUniqueDiv()\n",
       "                    notification.onclick = function () {\n",
       "                        window.focus();\n",
       "                        this.close();\n",
       "                        };\n",
       "                    } \n",
       "                }     \n",
       "            }\n",
       "        }\n",
       "    }\n",
       ")\n"
      ],
      "text/plain": [
       "<IPython.core.display.Javascript object>"
      ]
     },
     "metadata": {},
     "output_type": "display_data"
    }
   ],
   "source": [
    "%%notify\n",
    "\n",
    "import time\n",
    "import random \n",
    "\n",
    "time.sleep(15)\n",
    "\n",
    "print('Deu? :O')"
   ]
  },
  {
   "cell_type": "markdown",
   "metadata": {},
   "source": [
    "<a id=\"section9\"></a>\n",
    "# <font color=\"green\">9. Transformar</font>"
   ]
  },
  {
   "cell_type": "markdown",
   "metadata": {},
   "source": [
    "Tipos de dados"
   ]
  },
  {
   "cell_type": "code",
   "execution_count": null,
   "metadata": {},
   "outputs": [],
   "source": [
    "df['Column_A'] = pd.to_numeric(df['Column_A'], errors='coerce')\n"
   ]
  },
  {
   "cell_type": "code",
   "execution_count": null,
   "metadata": {},
   "outputs": [],
   "source": [
    "import pandas as pd\n",
    "\n",
    "# Assuming your DataFrame is called 'df'\n",
    "column_values = df['DESC_ARTIGO'].values.tolist()\n",
    "\n",
    "# Or, if you want to create a new pandas Series instead of a list:\n",
    "column_series = pd.Series(df['DESC_ARTIGO'].values)\n"
   ]
  },
  {
   "cell_type": "code",
   "execution_count": null,
   "metadata": {},
   "outputs": [],
   "source": [
    "elementos_não_presentes_em_ambos = set(df1_columns) ^ set(df2_columns)\n",
    "\n",
    "união_de_elementos = set(df1_columns) | set(df2_columns)\n",
    "\n",
    "intersecção = set(df1_columns) & set(df2_columns)"
   ]
  },
  {
   "cell_type": "markdown",
   "metadata": {},
   "source": [
    "[Índice](#section0)"
   ]
  },
  {
   "cell_type": "markdown",
   "metadata": {},
   "source": [
    "<a id=\"section10\"></a>\n",
    "# <font color=\"green\">10. Mergir Notebooks</font>"
   ]
  },
  {
   "cell_type": "code",
   "execution_count": null,
   "metadata": {},
   "outputs": [],
   "source": [
    "import pandas\n",
    "import nbformat\n",
    "\n",
    "notebook_A = nbformat.read(\"C:\\\\Users\\\\joao_\\\\OneDrive\\Ambiente de Trabalho\\\\B&N Código\\\\Lactogal\\\\cPadrão\\\\1LJunho_DataCleaning.ipynb\", nbformat.NO_CONVERT)\n",
    "notebook_B = nbformat.read(\"C:\\\\Users\\\\joao_\\\\OneDrive\\Ambiente de Trabalho\\\\B&N Código\\\\Lactogal\\\\cPadrão\\\\2LJunho_Wide_Wrangling.ipynb\", nbformat.NO_CONVERT)\n",
    "notebook_C = nbformat.read(\"C:\\\\Users\\\\joao_\\\\OneDrive\\Ambiente de Trabalho\\\\B&N Código\\\\Lactogal\\\\cPadrão\\\\5_GráficosR.ipynb\", nbformat.NO_CONVERT)\n",
    "\n",
    "\n",
    "\n",
    "notebook_A.cells.extend(notebook_B.cells)\n",
    "notebook_A.cells.extend(notebook_C.cells)\n",
    "\n",
    "\n",
    "nbformat.write(notebook_A, \"C:\\\\Users\\\\joao_\\\\OneDrive\\Ambiente de Trabalho\\\\B&N Código\\\\Lactogal\\\\cPadrão\\\\Lacto_Completo.ipynb\")\n"
   ]
  },
  {
   "cell_type": "markdown",
   "metadata": {},
   "source": [
    "---"
   ]
  },
  {
   "cell_type": "markdown",
   "metadata": {},
   "source": [
    "[Índice](#section0)"
   ]
  },
  {
   "cell_type": "markdown",
   "metadata": {},
   "source": [
    "<a id=\"section11\"></a>\n",
    "# <font color=\"green\">11. Markdown</font>\n",
    "> Estrutura dos programas:"
   ]
  },
  {
   "cell_type": "markdown",
   "metadata": {},
   "source": [
    "\n",
    "# <span style = 'color:#daa520'>**Imports**</span>\n",
    "\n",
    "\n",
    "\n",
    "# <span style='color:#006633'>Índice</span>\n",
    "1. [xxx](#section0)  \n",
    "2. [yyy](#section1)  \n",
    "3. [zzz](#section2) \n",
    "\n",
    "<a id=\"section1\"></a>\n",
    "\n",
    "\n",
    "\n",
    "# <span style='color:#015EC5'> Ninjas </span>\n",
    "\n",
    "\n",
    "\n",
    "# <span style='color:#015EC5'> Stocks Sellouts </span>\n",
    "\n",
    "\n",
    "## <span style = 'color:#330066'> Colunas Novas </span>\n",
    "\n",
    "\n",
    "> Espaço_Para_Coisas_Como_colunas_novas"
   ]
  },
  {
   "cell_type": "markdown",
   "metadata": {},
   "source": [
    "### ~~Span~~"
   ]
  },
  {
   "cell_type": "markdown",
   "metadata": {},
   "source": [
    "#  <span style='color:blue; font-family: Times New Roman; background-color: yellow'>Span tem imensas coisas fixes</span>"
   ]
  },
  {
   "cell_type": "markdown",
   "metadata": {},
   "source": [
    "---"
   ]
  },
  {
   "cell_type": "markdown",
   "metadata": {},
   "source": [
    "[Índice](#section0)"
   ]
  },
  {
   "cell_type": "markdown",
   "metadata": {},
   "source": [
    "<a id=\"section12\"></a>\n",
    "# <font color=\"green\">12. Gráficos</font>"
   ]
  },
  {
   "cell_type": "markdown",
   "metadata": {},
   "source": [
    "- Melhorar qualidade do gráfico quando feito o zoom\n",
    "> Transforma o output de uma imagem para passar a renderizar como um vector: scalable vector graphic (SVG)"
   ]
  },
  {
   "cell_type": "code",
   "execution_count": null,
   "metadata": {},
   "outputs": [],
   "source": [
    "from matplotlib_inline.backend_inline import set_matplotlib_formats\n",
    "set_matplotlib_formats('svg')\n",
    "\n",
    "# Ou\n",
    "\n",
    "%config InlineBackend.figure_format = 'svg'"
   ]
  },
  {
   "cell_type": "markdown",
   "metadata": {},
   "source": [
    "- Gráfico a correr"
   ]
  },
  {
   "cell_type": "code",
   "execution_count": null,
   "metadata": {},
   "outputs": [],
   "source": [
    "import bar_chart_race as bcr\n",
    "\n",
    "df = pd.DataFrame({\"x\":[2000,2001,2002,2003,2004,2005,2006,2007,2008,2009,2010], \n",
    "                   \"y\":[0,2,4,6,10,15,19,20,23,25,28], \n",
    "                   \"z\":[0,3,3,7,9,16,22,25,27,30,33], \n",
    "                   \"w\":[0,2,3,5,8,13,19,28,33,35,40]})\n",
    "\n",
    "# bcr.bar_chart_race(df=df,\n",
    "#                   title = 'Como fazer um gráfico de barras que correm')"
   ]
  },
  {
   "cell_type": "code",
   "execution_count": null,
   "metadata": {},
   "outputs": [],
   "source": [
    "\n"
   ]
  },
  {
   "cell_type": "markdown",
   "metadata": {},
   "source": [
    "[Índice](#section0)"
   ]
  },
  {
   "cell_type": "code",
   "execution_count": null,
   "metadata": {},
   "outputs": [],
   "source": []
  },
  {
   "cell_type": "code",
   "execution_count": null,
   "metadata": {},
   "outputs": [],
   "source": []
  },
  {
   "cell_type": "code",
   "execution_count": null,
   "metadata": {},
   "outputs": [],
   "source": []
  },
  {
   "cell_type": "markdown",
   "metadata": {},
   "source": [
    "- **função separar fins de semana**"
   ]
  },
  {
   "cell_type": "code",
   "execution_count": null,
   "metadata": {},
   "outputs": [],
   "source": [
    "#Função para definir qual fim de semana queremos pedir\n",
    "def fds(nome, df, numero):\n",
    "    a = int(numero)\n",
    "    b = 3*(a-1)\n",
    "    nome=df[b:b+3].copy()\n",
    "    return nome\n"
   ]
  },
  {
   "cell_type": "markdown",
   "metadata": {},
   "source": [
    "> - Extrair apenas os fins de semana"
   ]
  },
  {
   "cell_type": "code",
   "execution_count": null,
   "metadata": {},
   "outputs": [],
   "source": [
    "dfFds = dfFinal[dfFinal['DATA'].dt.weekday.isin([4,5,6])].copy()         #Sexta, Sábado e Domingo\n",
    "#dfSemana = dfJuntos[dfJuntos['DATA'].dt.weekday.isin([0,1,2,3])]    #Segunda a Quinta"
   ]
  },
  {
   "cell_type": "markdown",
   "metadata": {},
   "source": [
    "> - Fins de semana homólogos\n"
   ]
  },
  {
   "cell_type": "code",
   "execution_count": null,
   "metadata": {},
   "outputs": [],
   "source": [
    "#Dias em causa (1 fds depois da páscoa)\n",
    "dfFdsPiloto=dfFds.loc[(dfFds['DATA'] >= '2022-04-22') & (dfFds['DATA'] <= '2022-05-15')].copy()\n",
    "\n",
    "#Organizar para dar para ler mais facilmente\n",
    "dfFdsPiloto=dfFdsPiloto.sort_values(by=[\"STORE\", \"DESC_ARTIGO\",\"DATA\"])"
   ]
  },
  {
   "cell_type": "markdown",
   "metadata": {},
   "source": [
    "> - Colunas para a **semana** e o **dia**"
   ]
  },
  {
   "cell_type": "code",
   "execution_count": null,
   "metadata": {},
   "outputs": [],
   "source": [
    "# Copiar para fazer alterações mantendo o original\n",
    "dfFdsFinal = dfFdsPiloto.copy()\n",
    "\n",
    "#Semana\n",
    "dfFdsFinal['Semana'] = dfFdsFinal['DATA'].dt.isocalendar().week\n",
    "dfFdsFinal['Semana'] = dfFdsFinal.groupby('Semana').ngroup() + 1\n",
    "\n",
    "#Dia\n",
    "nome_dia = dfFdsFinal['DATA'].dt.day_name().map({'Friday': 'Sexta', 'Saturday': 'Sábado', 'Sunday': 'Domingo'})\n",
    "dfFdsFinal['Dia'] = nome_dia"
   ]
  }
 ],
 "metadata": {
  "kernelspec": {
   "display_name": "Python 3 (ipykernel)",
   "language": "python",
   "name": "python3"
  },
  "language_info": {
   "codemirror_mode": {
    "name": "ipython",
    "version": 3
   },
   "file_extension": ".py",
   "mimetype": "text/x-python",
   "name": "python",
   "nbconvert_exporter": "python",
   "pygments_lexer": "ipython3",
   "version": "3.11.5"
  }
 },
 "nbformat": 4,
 "nbformat_minor": 4
}
