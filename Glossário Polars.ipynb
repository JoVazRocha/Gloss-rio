{
 "cells": [
  {
   "cell_type": "markdown",
   "id": "8e21d55b",
   "metadata": {},
   "source": [
    "# <center><font color=\"lightblue\">Glossário Polars</font></center>\n",
    "\n",
    "# Imports Importantes"
   ]
  },
  {
   "cell_type": "code",
   "execution_count": 3,
   "id": "15f87549",
   "metadata": {},
   "outputs": [],
   "source": [
    "import polars as pl"
   ]
  },
  {
   "cell_type": "markdown",
   "id": "5c330ec2",
   "metadata": {},
   "source": [
    "<a id=\"section0\"></a>\n",
    "\n",
    "# Índice\n",
    "\n",
    "1. [Criar](#section1)<br>\n",
    "2. [Ler e Escrever](#section2)<br>\n",
    "3. [Ver](#section3)<br>\n",
    "4. [Limpar e Merge](#section4)<br>\n",
    "5. [Limitar](#section5)<br>\n",
    "6. [Datetime](#section6)<br>\n",
    "7. [Organização](#section7)<br>\n",
    "8. [Widgets](#section8)<br>\n",
    "9. [Transformar](#section9)<br>\n",
    "10. [Juntar Notebooks](#section10)<br>\n",
    "11. [Markdown](#section11)  \n",
    "12. [Gráficos](#section12)"
   ]
  },
  {
   "cell_type": "code",
   "execution_count": null,
   "id": "7130e801",
   "metadata": {},
   "outputs": [],
   "source": [
    "df = pl.DataFrame"
   ]
  }
 ],
 "metadata": {
  "kernelspec": {
   "display_name": "Python 3 (ipykernel)",
   "language": "python",
   "name": "python3"
  },
  "language_info": {
   "codemirror_mode": {
    "name": "ipython",
    "version": 3
   },
   "file_extension": ".py",
   "mimetype": "text/x-python",
   "name": "python",
   "nbconvert_exporter": "python",
   "pygments_lexer": "ipython3",
   "version": "3.11.5"
  }
 },
 "nbformat": 4,
 "nbformat_minor": 5
}
